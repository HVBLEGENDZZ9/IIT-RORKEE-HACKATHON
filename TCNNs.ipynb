{
 "cells": [
  {
   "cell_type": "code",
   "execution_count": 83,
   "id": "47418bd9",
   "metadata": {},
   "outputs": [],
   "source": [
    "import pandas as pd\n",
    "import tensorflow as tf\n",
    "train = pd.read_csv(\"train_data.csv\")\n",
    "train.drop([\"Id\",\"date\"],axis=1,inplace=True)\n",
    "target = pd.read_csv(\"train_target.csv\")\n",
    "from sklearn.preprocessing import StandardScaler\n",
    "s = StandardScaler()\n",
    "values = train.values\n",
    "s.fit(values)\n",
    "values = s.transform(values)\n",
    "labels = target[\"target\"].to_numpy()"
   ]
  },
  {
   "cell_type": "code",
   "execution_count": 84,
   "id": "29c50acd",
   "metadata": {},
   "outputs": [
    {
     "data": {
      "text/plain": [
       "(array([1, 0, 1, ..., 1, 0, 0], dtype=int64), (25500, 16))"
      ]
     },
     "execution_count": 84,
     "metadata": {},
     "output_type": "execute_result"
    }
   ],
   "source": [
    "labels,values.shape"
   ]
  },
  {
   "cell_type": "code",
   "execution_count": 85,
   "id": "725b6004",
   "metadata": {},
   "outputs": [
    {
     "data": {
      "text/plain": [
       "(25500, 16)"
      ]
     },
     "execution_count": 85,
     "metadata": {},
     "output_type": "execute_result"
    }
   ],
   "source": [
    "values.shape"
   ]
  },
  {
   "cell_type": "code",
   "execution_count": 51,
   "id": "36de718a",
   "metadata": {},
   "outputs": [],
   "source": [
    "values = values.transpose()"
   ]
  },
  {
   "cell_type": "code",
   "execution_count": 86,
   "id": "51615709",
   "metadata": {},
   "outputs": [
    {
     "data": {
      "text/plain": [
       "(25500, 16)"
      ]
     },
     "execution_count": 86,
     "metadata": {},
     "output_type": "execute_result"
    }
   ],
   "source": [
    "values.shape"
   ]
  },
  {
   "cell_type": "code",
   "execution_count": 87,
   "id": "eceedc2b",
   "metadata": {},
   "outputs": [
    {
     "data": {
      "text/plain": [
       "(25500, 16, 1)"
      ]
     },
     "execution_count": 87,
     "metadata": {},
     "output_type": "execute_result"
    }
   ],
   "source": [
    "values = tf.expand_dims(values,axis=2).numpy()\n",
    "values.shape"
   ]
  },
  {
   "cell_type": "code",
   "execution_count": 5,
   "id": "1bd5dd24",
   "metadata": {},
   "outputs": [
    {
     "data": {
      "text/plain": [
       "((25467, 28),\n",
       " array([[-0.76879334, -0.77316675, -0.76903088, ..., -0.27051434,\n",
       "          1.13039316, -0.84441121],\n",
       "        [-0.77477854, -0.77471512, -0.7730916 , ..., -0.36764203,\n",
       "          1.10267818, -0.842573  ],\n",
       "        [-0.77176501, -0.76927493, -0.76656095, ..., -0.37658546,\n",
       "          1.07429041, -0.84042617],\n",
       "        ...,\n",
       "        [ 1.31530979,  1.31276994,  1.31993871, ...,  0.77634292,\n",
       "         -0.43043442,  1.30743924],\n",
       "        [ 1.31330077,  1.31214222,  1.31993871, ...,  0.70935008,\n",
       "         -0.37712967,  1.30771367],\n",
       "        [ 1.31564462,  1.31260255,  1.32106902, ...,  0.64805223,\n",
       "         -0.32843623,  1.30860567]]))"
      ]
     },
     "execution_count": 5,
     "metadata": {},
     "output_type": "execute_result"
    }
   ],
   "source": [
    "df = pd.read_csv(\"TRAINING_SET_FINAL.csv\")\n",
    "df.drop([\"date\",\"Id\"],axis=1,inplace=True)\n",
    "val = df.values\n",
    "s.fit(val)\n",
    "val = s.transform(val)\n",
    "val.shape,val"
   ]
  },
  {
   "cell_type": "code",
   "execution_count": 109,
   "id": "bda55cf2",
   "metadata": {},
   "outputs": [
    {
     "name": "stdout",
     "output_type": "stream",
     "text": [
      "Epoch 1/50\n",
      "797/797 [==============================] - 5s 6ms/step - loss: 0.6928 - accuracy: 0.5045\n",
      "Epoch 2/50\n",
      "797/797 [==============================] - 5s 6ms/step - loss: 0.6925 - accuracy: 0.5151\n",
      "Epoch 3/50\n",
      "797/797 [==============================] - 5s 6ms/step - loss: 0.6924 - accuracy: 0.5170\n",
      "Epoch 4/50\n",
      "797/797 [==============================] - 5s 6ms/step - loss: 0.6923 - accuracy: 0.5172\n",
      "Epoch 5/50\n",
      "797/797 [==============================] - 7s 8ms/step - loss: 0.6923 - accuracy: 0.5165\n",
      "Epoch 6/50\n",
      "797/797 [==============================] - 8s 10ms/step - loss: 0.6923 - accuracy: 0.5180\n",
      "Epoch 7/50\n",
      "797/797 [==============================] - 9s 11ms/step - loss: 0.6922 - accuracy: 0.5186\n",
      "Epoch 8/50\n",
      "797/797 [==============================] - 9s 11ms/step - loss: 0.6922 - accuracy: 0.5177\n",
      "Epoch 9/50\n",
      "797/797 [==============================] - 9s 11ms/step - loss: 0.6921 - accuracy: 0.5185\n",
      "Epoch 10/50\n",
      "797/797 [==============================] - 9s 11ms/step - loss: 0.6921 - accuracy: 0.5162\n",
      "Epoch 11/50\n",
      "797/797 [==============================] - 9s 11ms/step - loss: 0.6920 - accuracy: 0.5158\n",
      "Epoch 12/50\n",
      "797/797 [==============================] - 8s 11ms/step - loss: 0.6920 - accuracy: 0.5183\n",
      "Epoch 13/50\n",
      "797/797 [==============================] - 8s 10ms/step - loss: 0.6920 - accuracy: 0.5179\n",
      "Epoch 14/50\n",
      "797/797 [==============================] - 8s 11ms/step - loss: 0.6919 - accuracy: 0.5198\n",
      "Epoch 15/50\n",
      "797/797 [==============================] - 8s 11ms/step - loss: 0.6919 - accuracy: 0.5214\n",
      "Epoch 16/50\n",
      "797/797 [==============================] - 8s 11ms/step - loss: 0.6919 - accuracy: 0.5211\n",
      "Epoch 17/50\n",
      "797/797 [==============================] - 8s 11ms/step - loss: 0.6918 - accuracy: 0.5196\n",
      "Epoch 18/50\n",
      "797/797 [==============================] - 8s 11ms/step - loss: 0.6918 - accuracy: 0.5169\n",
      "Epoch 19/50\n",
      "797/797 [==============================] - 9s 11ms/step - loss: 0.6917 - accuracy: 0.5227\n",
      "Epoch 20/50\n",
      "797/797 [==============================] - 9s 11ms/step - loss: 0.6917 - accuracy: 0.5187\n",
      "Epoch 21/50\n",
      "797/797 [==============================] - 8s 11ms/step - loss: 0.6916 - accuracy: 0.5196\n",
      "Epoch 22/50\n",
      "797/797 [==============================] - 9s 11ms/step - loss: 0.6916 - accuracy: 0.5215\n",
      "Epoch 23/50\n",
      "797/797 [==============================] - 8s 11ms/step - loss: 0.6916 - accuracy: 0.5246\n",
      "Epoch 24/50\n",
      "797/797 [==============================] - 9s 11ms/step - loss: 0.6915 - accuracy: 0.5230\n",
      "Epoch 25/50\n",
      "797/797 [==============================] - 8s 10ms/step - loss: 0.6914 - accuracy: 0.5181\n",
      "Epoch 26/50\n",
      "797/797 [==============================] - 8s 10ms/step - loss: 0.6915 - accuracy: 0.5233\n",
      "Epoch 27/50\n",
      "797/797 [==============================] - 8s 10ms/step - loss: 0.6913 - accuracy: 0.5244\n",
      "Epoch 28/50\n",
      "797/797 [==============================] - 8s 10ms/step - loss: 0.6914 - accuracy: 0.5255\n",
      "Epoch 29/50\n",
      "797/797 [==============================] - 8s 11ms/step - loss: 0.6914 - accuracy: 0.5227\n",
      "Epoch 30/50\n",
      "797/797 [==============================] - 8s 11ms/step - loss: 0.6912 - accuracy: 0.5233\n",
      "Epoch 31/50\n",
      "797/797 [==============================] - 9s 11ms/step - loss: 0.6913 - accuracy: 0.5226\n",
      "Epoch 32/50\n",
      "797/797 [==============================] - 8s 10ms/step - loss: 0.6912 - accuracy: 0.5252\n",
      "Epoch 33/50\n",
      "797/797 [==============================] - 9s 11ms/step - loss: 0.6912 - accuracy: 0.5223\n",
      "Epoch 34/50\n",
      "797/797 [==============================] - 8s 10ms/step - loss: 0.6911 - accuracy: 0.5224\n",
      "Epoch 35/50\n",
      "797/797 [==============================] - 8s 10ms/step - loss: 0.6911 - accuracy: 0.5224\n",
      "Epoch 36/50\n",
      "797/797 [==============================] - 8s 10ms/step - loss: 0.6910 - accuracy: 0.5247\n",
      "Epoch 37/50\n",
      "797/797 [==============================] - 8s 10ms/step - loss: 0.6910 - accuracy: 0.5279\n",
      "Epoch 38/50\n",
      "797/797 [==============================] - 9s 11ms/step - loss: 0.6909 - accuracy: 0.5264\n",
      "Epoch 39/50\n",
      "797/797 [==============================] - 9s 11ms/step - loss: 0.6910 - accuracy: 0.5257\n",
      "Epoch 40/50\n",
      "797/797 [==============================] - 5s 6ms/step - loss: 0.6910 - accuracy: 0.5253\n",
      "Epoch 41/50\n",
      "797/797 [==============================] - 5s 6ms/step - loss: 0.6909 - accuracy: 0.5271\n",
      "Epoch 42/50\n",
      "797/797 [==============================] - 5s 6ms/step - loss: 0.6908 - accuracy: 0.5283\n",
      "Epoch 43/50\n",
      "797/797 [==============================] - 5s 6ms/step - loss: 0.6908 - accuracy: 0.5247\n",
      "Epoch 44/50\n",
      "797/797 [==============================] - 5s 6ms/step - loss: 0.6908 - accuracy: 0.5271\n",
      "Epoch 45/50\n",
      "797/797 [==============================] - 5s 6ms/step - loss: 0.6907 - accuracy: 0.5301\n",
      "Epoch 46/50\n",
      "797/797 [==============================] - 5s 6ms/step - loss: 0.6907 - accuracy: 0.5256\n",
      "Epoch 47/50\n",
      "797/797 [==============================] - 5s 6ms/step - loss: 0.6905 - accuracy: 0.5286\n",
      "Epoch 48/50\n",
      "797/797 [==============================] - 5s 6ms/step - loss: 0.6906 - accuracy: 0.5273\n",
      "Epoch 49/50\n",
      "797/797 [==============================] - 5s 6ms/step - loss: 0.6904 - accuracy: 0.5277\n",
      "Epoch 50/50\n",
      "797/797 [==============================] - 5s 6ms/step - loss: 0.6905 - accuracy: 0.5284\n"
     ]
    },
    {
     "data": {
      "text/plain": [
       "<keras.callbacks.History at 0x237fd124130>"
      ]
     },
     "execution_count": 109,
     "metadata": {},
     "output_type": "execute_result"
    }
   ],
   "source": [
    "from tensorflow.keras.layers import Input, Conv1D, Dense, Lambda, Flatten, Concatenate\n",
    "from tensorflow.keras import Model\n",
    "from tensorflow.keras import metrics\n",
    "from tensorflow.keras.losses import CategoricalCrossentropy\n",
    "from tensorflow.keras import utils\n",
    "from sklearn.preprocessing import StandardScaler\n",
    "import numpy as np\n",
    "import math\n",
    "\n",
    "        \n",
    "inputs = Input(shape=(16,1))\n",
    "\n",
    "# extract our features using a Convolutional layers, hence \"CNN\"\n",
    "feature_extraction = Conv1D(64, 5, activation='relu')(inputs)\n",
    "# split layer into three regions based on time, hence \"Temporal\"\n",
    "long_term = Lambda( lambda x: tf.split(x, num_or_size_splits=3, axis=1)[0])(feature_extraction)\n",
    "mid_term = Lambda( lambda x: tf.split(x, num_or_size_splits=3, axis=1)[1])(feature_extraction)\n",
    "short_term = Lambda( lambda x: tf.split(x, num_or_size_splits=3, axis=1)[2])(feature_extraction)\n",
    "\n",
    "long_term_conv = Conv1D(1, 1, activation='relu')(long_term)\n",
    "mid_term_conv = Conv1D(1, 1, activation='relu')(mid_term)\n",
    "short_term_conv = Conv1D(1, 1, activation='relu')(short_term)\n",
    "\n",
    "# combine three layers back into one\n",
    "combined = Concatenate(axis=1)([long_term_conv, mid_term_conv, short_term_conv])\n",
    "\n",
    "# flattening is required since our input is a 2D matrix\n",
    "flattened = Flatten()(combined)\n",
    "\n",
    "# 1 output neuron for each class (Up, Stationary, Down --- see Direction class)\n",
    "x = Dense(20, activation='softmax')(flattened)\n",
    "outputs = Dense(1,activation=\"sigmoid\")(x)\n",
    "# specify input and output layers of our model\n",
    "model = Model(inputs=inputs, outputs=outputs)\n",
    "\n",
    "# compile our model\n",
    "model.compile(optimizer='adam',\n",
    "              loss=\"binary_crossentropy\",metrics=\"accuracy\")\n",
    "\n",
    "#     def __PrepareData(self, data, rolling_avg_window_size=5, stationary_threshold=.0001):\n",
    "#         '''Prepares the data for a format friendly for our model'''\n",
    "\n",
    "#         # rolling_avg_window_size = window size for the future mid prices to average, \n",
    "#         #   this average is what the model wants to predict\n",
    "#         # stationary_threshold = maximum change of movement to be considered stationary \n",
    "#         #   for the average mid price stated above \n",
    "\n",
    "#         df = data[input_vars]\n",
    "#         shift = -(rolling_avg_window_size-1)\n",
    "\n",
    "#         # function we will use to label our data (used in line )\n",
    "#         def label_data(row):\n",
    "#             if row['close_avg_change_pct'] > stationary_threshold:\n",
    "#                 return Direction.UP\n",
    "#             elif row['close_avg_change_pct'] < -stationary_threshold:\n",
    "#                 return Direction.DOWN\n",
    "#             else:\n",
    "#                 return Direction.STATIONARY\n",
    "\n",
    "#         # compute the % change in the average of the close of the future 5 time steps\n",
    "#         #   at each time step\n",
    "#         df['close_avg'] = df['close'].rolling(window=rolling_avg_window_size).mean().shift(shift) \n",
    "#         df['close_avg_change_pct'] = (df['close_avg'] - df['close']) / df['close']\n",
    "\n",
    "#         # label data based on direction,\n",
    "#         # axis=1 signifies a row-wise operation (axis=0 is col-wise)\n",
    "#         df['movement_labels'] = df.apply(label_data, axis=1)\n",
    "\n",
    "#         # lists to store each 2D input matrix and the corresponding label\n",
    "#         data = []\n",
    "#         labels = []\n",
    "\n",
    "#         for i in range(len(df)-self.n_tsteps+1+shift):\n",
    "#             label = df['movement_labels'].iloc[i+self.n_tsteps-1]\n",
    "#             data.append(df[input_vars].iloc[i:i+self.n_tsteps].values)\n",
    "#             labels.append(label)\n",
    "\n",
    "#         data = np.array(data)\n",
    "\n",
    "#         # temporarily reshape data to 2D,\n",
    "#         #   necessary because sklearn only works wtih 2D data\n",
    "#         dim1, dim2, dim3 = data.shape\n",
    "#         data = data.reshape(dim1*dim2, dim3)\n",
    "\n",
    "#         # fit our scaler and transform our data in one method call\n",
    "#         data = self.scaler.fit_transform(data)\n",
    "\n",
    "#         # return data to original shape\n",
    "#         data = data.reshape(dim1, dim2, dim3)\n",
    "\n",
    "#         # Keras needs dummy matrices for classification problems, \n",
    "#         #   hence the need for to_categorical()\n",
    "#         #   num classes ensures our dummy matrix has 3 columns, \n",
    "#         #   one for each label (Up, Down, Stationary)\n",
    "#         return data, utils.to_categorical(labels, num_classes=3)\n",
    "\n",
    "model.fit(values, labels, epochs=50)\n"
   ]
  },
  {
   "cell_type": "code",
   "execution_count": 77,
   "id": "1f1743c8",
   "metadata": {},
   "outputs": [
    {
     "name": "stdout",
     "output_type": "stream",
     "text": [
      "Epoch 1/50\n",
      "797/797 [==============================] - 5s 6ms/step - loss: 0.6913 - accuracy: 0.5206\n",
      "Epoch 2/50\n",
      "797/797 [==============================] - 5s 6ms/step - loss: 0.6912 - accuracy: 0.5218\n",
      "Epoch 3/50\n",
      "797/797 [==============================] - 5s 6ms/step - loss: 0.6913 - accuracy: 0.5221\n",
      "Epoch 4/50\n",
      "797/797 [==============================] - 4s 6ms/step - loss: 0.6911 - accuracy: 0.5250\n",
      "Epoch 5/50\n",
      "797/797 [==============================] - 4s 6ms/step - loss: 0.6912 - accuracy: 0.5216\n",
      "Epoch 6/50\n",
      "797/797 [==============================] - 5s 6ms/step - loss: 0.6912 - accuracy: 0.5232\n",
      "Epoch 7/50\n",
      "797/797 [==============================] - 5s 6ms/step - loss: 0.6912 - accuracy: 0.5222\n",
      "Epoch 8/50\n",
      "797/797 [==============================] - 5s 6ms/step - loss: 0.6911 - accuracy: 0.5247\n",
      "Epoch 9/50\n",
      "797/797 [==============================] - 5s 6ms/step - loss: 0.6911 - accuracy: 0.5271\n",
      "Epoch 10/50\n",
      "797/797 [==============================] - 5s 6ms/step - loss: 0.6910 - accuracy: 0.5249\n",
      "Epoch 11/50\n",
      "797/797 [==============================] - 5s 6ms/step - loss: 0.6911 - accuracy: 0.5237\n",
      "Epoch 12/50\n",
      "797/797 [==============================] - 5s 6ms/step - loss: 0.6911 - accuracy: 0.5256: 0s - loss: 0.6911 - accuracy: \n",
      "Epoch 13/50\n",
      "797/797 [==============================] - 5s 6ms/step - loss: 0.6910 - accuracy: 0.5274\n",
      "Epoch 14/50\n",
      "797/797 [==============================] - 5s 6ms/step - loss: 0.6911 - accuracy: 0.5247\n",
      "Epoch 15/50\n",
      "797/797 [==============================] - 5s 6ms/step - loss: 0.6910 - accuracy: 0.5247\n",
      "Epoch 16/50\n",
      "797/797 [==============================] - 5s 6ms/step - loss: 0.6910 - accuracy: 0.5256\n",
      "Epoch 17/50\n",
      "797/797 [==============================] - 5s 6ms/step - loss: 0.6909 - accuracy: 0.5269\n",
      "Epoch 18/50\n",
      "797/797 [==============================] - 5s 6ms/step - loss: 0.6910 - accuracy: 0.5255\n",
      "Epoch 19/50\n",
      "797/797 [==============================] - 5s 6ms/step - loss: 0.6908 - accuracy: 0.5266\n",
      "Epoch 20/50\n",
      "797/797 [==============================] - 5s 6ms/step - loss: 0.6909 - accuracy: 0.5262\n",
      "Epoch 21/50\n",
      "797/797 [==============================] - 5s 6ms/step - loss: 0.6909 - accuracy: 0.5243: 0s - loss: 0.6910 - ac\n",
      "Epoch 22/50\n",
      "797/797 [==============================] - 5s 6ms/step - loss: 0.6908 - accuracy: 0.5242\n",
      "Epoch 23/50\n",
      "797/797 [==============================] - ETA: 0s - loss: 0.6908 - accuracy: 0.52 - 5s 6ms/step - loss: 0.6908 - accuracy: 0.5262\n",
      "Epoch 24/50\n",
      "797/797 [==============================] - 5s 6ms/step - loss: 0.6908 - accuracy: 0.5273\n",
      "Epoch 25/50\n",
      "797/797 [==============================] - 5s 6ms/step - loss: 0.6908 - accuracy: 0.5269\n",
      "Epoch 26/50\n",
      "797/797 [==============================] - 5s 6ms/step - loss: 0.6907 - accuracy: 0.5280\n",
      "Epoch 27/50\n",
      "797/797 [==============================] - 5s 6ms/step - loss: 0.6907 - accuracy: 0.5290\n",
      "Epoch 28/50\n",
      "797/797 [==============================] - 5s 6ms/step - loss: 0.6908 - accuracy: 0.5250\n",
      "Epoch 29/50\n",
      "797/797 [==============================] - 5s 6ms/step - loss: 0.6907 - accuracy: 0.5261\n",
      "Epoch 30/50\n",
      "797/797 [==============================] - 5s 6ms/step - loss: 0.6908 - accuracy: 0.5268\n",
      "Epoch 31/50\n",
      "797/797 [==============================] - 5s 6ms/step - loss: 0.6906 - accuracy: 0.5273\n",
      "Epoch 32/50\n",
      "797/797 [==============================] - 5s 6ms/step - loss: 0.6907 - accuracy: 0.5261\n",
      "Epoch 33/50\n",
      "797/797 [==============================] - 5s 6ms/step - loss: 0.6907 - accuracy: 0.5275\n",
      "Epoch 34/50\n",
      "797/797 [==============================] - 5s 6ms/step - loss: 0.6906 - accuracy: 0.5271\n",
      "Epoch 35/50\n",
      "797/797 [==============================] - 5s 6ms/step - loss: 0.6906 - accuracy: 0.5255\n",
      "Epoch 36/50\n",
      "797/797 [==============================] - 5s 6ms/step - loss: 0.6905 - accuracy: 0.5265\n",
      "Epoch 37/50\n",
      "797/797 [==============================] - 5s 6ms/step - loss: 0.6904 - accuracy: 0.5266\n",
      "Epoch 38/50\n",
      "797/797 [==============================] - 5s 6ms/step - loss: 0.6906 - accuracy: 0.5282\n",
      "Epoch 39/50\n",
      "797/797 [==============================] - 5s 6ms/step - loss: 0.6904 - accuracy: 0.5297\n",
      "Epoch 40/50\n",
      "797/797 [==============================] - 5s 6ms/step - loss: 0.6905 - accuracy: 0.5298\n",
      "Epoch 41/50\n",
      "797/797 [==============================] - 5s 6ms/step - loss: 0.6904 - accuracy: 0.5296\n",
      "Epoch 42/50\n",
      "797/797 [==============================] - 5s 6ms/step - loss: 0.6904 - accuracy: 0.5289\n",
      "Epoch 43/50\n",
      "797/797 [==============================] - 5s 6ms/step - loss: 0.6903 - accuracy: 0.5295\n",
      "Epoch 44/50\n",
      "797/797 [==============================] - 5s 6ms/step - loss: 0.6903 - accuracy: 0.5255\n",
      "Epoch 45/50\n",
      "797/797 [==============================] - 5s 6ms/step - loss: 0.6903 - accuracy: 0.5288\n",
      "Epoch 46/50\n",
      "797/797 [==============================] - 5s 6ms/step - loss: 0.6903 - accuracy: 0.5274\n",
      "Epoch 47/50\n",
      "797/797 [==============================] - 5s 6ms/step - loss: 0.6904 - accuracy: 0.5261\n",
      "Epoch 48/50\n",
      "797/797 [==============================] - 5s 6ms/step - loss: 0.6903 - accuracy: 0.5309\n",
      "Epoch 49/50\n",
      "797/797 [==============================] - 5s 6ms/step - loss: 0.6903 - accuracy: 0.5298\n",
      "Epoch 50/50\n",
      "797/797 [==============================] - 5s 6ms/step - loss: 0.6903 - accuracy: 0.5286\n"
     ]
    },
    {
     "data": {
      "text/plain": [
       "<keras.callbacks.History at 0x23674e1b550>"
      ]
     },
     "execution_count": 77,
     "metadata": {},
     "output_type": "execute_result"
    }
   ],
   "source": [
    "model.fit(values, labels, epochs=50)"
   ]
  },
  {
   "cell_type": "code",
   "execution_count": 102,
   "id": "f821bcca",
   "metadata": {},
   "outputs": [
    {
     "data": {
      "text/plain": [
       "array([[0.6034    , 0.60345625, 0.6010875 , ..., 0.60194594, 0.60562733,\n",
       "        0.59826455],\n",
       "       [0.6011    , 0.60208125, 0.600225  , ..., 0.60210344, 0.60522458,\n",
       "        0.59898229],\n",
       "       [0.60053125, 0.6020375 , 0.60048125, ..., 0.6020525 , 0.60520933,\n",
       "        0.59889567],\n",
       "       ...,\n",
       "       [0.7061    , 0.71451875, 0.7061    , ..., 0.70218531, 0.70916219,\n",
       "        0.69520843],\n",
       "       [0.7134125 , 0.7157    , 0.7118875 , ..., 0.70294031, 0.71161722,\n",
       "        0.69426341],\n",
       "       [0.71443125, 0.7144625 , 0.7119875 , ..., 0.70380531, 0.71307354,\n",
       "        0.69453708]])"
      ]
     },
     "execution_count": 102,
     "metadata": {},
     "output_type": "execute_result"
    }
   ],
   "source": [
    "test = pd.read_csv(\"test_data.csv\")\n",
    "test.drop([\"Id\",\"date\"],axis=1,inplace=True)\n",
    "test = test.values\n",
    "test"
   ]
  },
  {
   "cell_type": "code",
   "execution_count": 103,
   "id": "486f51f1",
   "metadata": {},
   "outputs": [
    {
     "data": {
      "text/plain": [
       "TensorShape([10317, 16, 1])"
      ]
     },
     "execution_count": 103,
     "metadata": {},
     "output_type": "execute_result"
    }
   ],
   "source": [
    "test = tf.expand_dims(test,axis=2)\n",
    "test.shape"
   ]
  },
  {
   "cell_type": "code",
   "execution_count": 104,
   "id": "db24c0f9",
   "metadata": {},
   "outputs": [
    {
     "data": {
      "text/plain": [
       "(10317, 16, 1)"
      ]
     },
     "execution_count": 104,
     "metadata": {},
     "output_type": "execute_result"
    }
   ],
   "source": [
    "test = test.numpy()\n",
    "test.shape"
   ]
  },
  {
   "cell_type": "code",
   "execution_count": 110,
   "id": "c3afcbcc",
   "metadata": {},
   "outputs": [
    {
     "data": {
      "text/plain": [
       "array([[1.],\n",
       "       [1.],\n",
       "       [1.],\n",
       "       ...,\n",
       "       [1.],\n",
       "       [1.],\n",
       "       [1.]], dtype=float32)"
      ]
     },
     "execution_count": 110,
     "metadata": {},
     "output_type": "execute_result"
    }
   ],
   "source": [
    "pred = tf.round(model.predict(test)).numpy()\n",
    "pred"
   ]
  },
  {
   "cell_type": "code",
   "execution_count": 111,
   "id": "121fd602",
   "metadata": {},
   "outputs": [
    {
     "data": {
      "text/plain": [
       "<tf.Tensor: shape=(10317, 1), dtype=int64, numpy=\n",
       "array([[1],\n",
       "       [1],\n",
       "       [1],\n",
       "       ...,\n",
       "       [1],\n",
       "       [1],\n",
       "       [1]], dtype=int64)>"
      ]
     },
     "execution_count": 111,
     "metadata": {},
     "output_type": "execute_result"
    }
   ],
   "source": [
    "pred = tf.cast(pred,dtype=tf.int64)\n",
    "pred"
   ]
  },
  {
   "cell_type": "code",
   "execution_count": 74,
   "id": "f34e8025",
   "metadata": {},
   "outputs": [
    {
     "data": {
      "text/plain": [
       "(array([    0,     1,     2, ..., 10314, 10315, 10316]), (10317,))"
      ]
     },
     "execution_count": 74,
     "metadata": {},
     "output_type": "execute_result"
    }
   ],
   "source": [
    "l = np.arange(0,len(test))\n",
    "l,l.shape"
   ]
  },
  {
   "cell_type": "code",
   "execution_count": 112,
   "id": "578e97dc",
   "metadata": {},
   "outputs": [
    {
     "data": {
      "text/plain": [
       "array([1, 1, 1, ..., 1, 1, 1], dtype=int64)"
      ]
     },
     "execution_count": 112,
     "metadata": {},
     "output_type": "execute_result"
    }
   ],
   "source": [
    "pred = tf.squeeze(pred).numpy()\n",
    "pred"
   ]
  },
  {
   "cell_type": "code",
   "execution_count": 113,
   "id": "01cd36bc",
   "metadata": {},
   "outputs": [
    {
     "data": {
      "text/plain": [
       "1    10316\n",
       "0        1\n",
       "Name: target, dtype: int64"
      ]
     },
     "execution_count": 113,
     "metadata": {},
     "output_type": "execute_result"
    }
   ],
   "source": [
    "pred_df = pd.DataFrame(list(zip(l, pred)),\n",
    "               columns =['Id', 'target'])\n",
    "pred_df.to_csv(\"submission9.csv\")\n",
    "pred_df[\"target\"].value_counts()"
   ]
  }
 ],
 "metadata": {
  "kernelspec": {
   "display_name": "venv1",
   "language": "python",
   "name": "venv1"
  },
  "language_info": {
   "codemirror_mode": {
    "name": "ipython",
    "version": 3
   },
   "file_extension": ".py",
   "mimetype": "text/x-python",
   "name": "python",
   "nbconvert_exporter": "python",
   "pygments_lexer": "ipython3",
   "version": "3.9.0"
  }
 },
 "nbformat": 4,
 "nbformat_minor": 5
}
