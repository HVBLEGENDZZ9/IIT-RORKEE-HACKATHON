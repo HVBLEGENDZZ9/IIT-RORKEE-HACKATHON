{
 "cells": [
  {
   "cell_type": "code",
   "execution_count": 1,
   "id": "de25e67d",
   "metadata": {},
   "outputs": [],
   "source": [
    "import pandas as pd\n",
    "import numpy as np\n",
    "import matplotlib.pyplot as plt\n",
    "import seaborn as sns\n",
    "import tensorflow as tf"
   ]
  },
  {
   "cell_type": "code",
   "execution_count": 2,
   "id": "03574234",
   "metadata": {},
   "outputs": [
    {
     "data": {
      "text/plain": [
       "(array([1, 0, 1, ..., 1, 0, 0], dtype=int64),\n",
       " array([[0.28775342, 0.28420792, 0.28852409, ..., 0.27166192, 0.27187271,\n",
       "         0.27825302],\n",
       "        [0.28247401, 0.28006026, 0.29070949, ..., 0.27150946, 0.27135311,\n",
       "         0.27846074],\n",
       "        [0.28357518, 0.2834341 , 0.29248831, ..., 0.27154653, 0.27150045,\n",
       "         0.27838975],\n",
       "        ...,\n",
       "        [0.80950911, 0.80827882, 0.81252287, ..., 0.8060414 , 0.8071335 ,\n",
       "         0.80491935],\n",
       "        [0.80901513, 0.80812406, 0.81252287, ..., 0.80641053, 0.80740769,\n",
       "         0.80537639],\n",
       "        [0.80959144, 0.80823755, 0.81279732, ..., 0.8069243 , 0.80726751,\n",
       "         0.80652161]]))"
      ]
     },
     "execution_count": 2,
     "metadata": {},
     "output_type": "execute_result"
    }
   ],
   "source": [
    "train = pd.read_csv(\"train_data.csv\")\n",
    "train.drop([\"Id\",\"date\"],axis=1,inplace=True)\n",
    "train = train.values\n",
    "from sklearn.preprocessing import MinMaxScaler\n",
    "mms = MinMaxScaler()\n",
    "mms.fit(train)\n",
    "train = mms.transform(train)\n",
    "labels = pd.read_csv(\"train_target.csv\")\n",
    "labels = labels[\"target\"].to_numpy()\n",
    "labels,train"
   ]
  },
  {
   "cell_type": "code",
   "execution_count": 42,
   "id": "2440fbbe",
   "metadata": {},
   "outputs": [
    {
     "name": "stdout",
     "output_type": "stream",
     "text": [
      "(25493, 7, 16)\n",
      "(25493,)\n"
     ]
    }
   ],
   "source": [
    "windows = []\n",
    "horizon = []\n",
    "i = 0\n",
    "while(i+7<len(train)):\n",
    "    lab = []\n",
    "    lab.append(train[i])\n",
    "    lab.append(train[i+1])\n",
    "    lab.append(train[i+2])\n",
    "    lab.append(train[i+3])\n",
    "    lab.append(train[i+4])\n",
    "    lab.append(train[i+5])\n",
    "    lab.append(train[i+6])\n",
    "    windows.append(lab)\n",
    "    horizon.append(labels[i+7])\n",
    "    i+=1\n",
    "print(np.array(windows).shape)\n",
    "print(np.array(horizon).shape)  \n",
    "windows = np.array(windows)\n",
    "horizon = np.array(horizon)"
   ]
  },
  {
   "cell_type": "code",
   "execution_count": 43,
   "id": "ca89b584",
   "metadata": {},
   "outputs": [
    {
     "name": "stdout",
     "output_type": "stream",
     "text": [
      "Epoch 1/50\n",
      "797/797 [==============================] - 36s 6ms/step - loss: 0.6929 - accuracy: 0.5086\n",
      "Epoch 2/50\n",
      "797/797 [==============================] - 4s 5ms/step - loss: 0.6928 - accuracy: 0.5080\n",
      "Epoch 3/50\n",
      "797/797 [==============================] - 4s 6ms/step - loss: 0.6926 - accuracy: 0.5129\n",
      "Epoch 4/50\n",
      "797/797 [==============================] - 5s 6ms/step - loss: 0.6924 - accuracy: 0.5121\n",
      "Epoch 5/50\n",
      "797/797 [==============================] - 5s 6ms/step - loss: 0.6925 - accuracy: 0.5136\n",
      "Epoch 6/50\n",
      "797/797 [==============================] - 5s 6ms/step - loss: 0.6925 - accuracy: 0.5128\n",
      "Epoch 7/50\n",
      "797/797 [==============================] - 4s 6ms/step - loss: 0.6924 - accuracy: 0.5173\n",
      "Epoch 8/50\n",
      "797/797 [==============================] - 5s 6ms/step - loss: 0.6924 - accuracy: 0.5156\n",
      "Epoch 9/50\n",
      "797/797 [==============================] - 5s 6ms/step - loss: 0.6923 - accuracy: 0.5167\n",
      "Epoch 10/50\n",
      "797/797 [==============================] - 5s 6ms/step - loss: 0.6924 - accuracy: 0.5181\n",
      "Epoch 11/50\n",
      "797/797 [==============================] - 5s 6ms/step - loss: 0.6924 - accuracy: 0.5148\n",
      "Epoch 12/50\n",
      "797/797 [==============================] - 5s 6ms/step - loss: 0.6924 - accuracy: 0.5165\n",
      "Epoch 13/50\n",
      "797/797 [==============================] - 5s 6ms/step - loss: 0.6923 - accuracy: 0.5160\n",
      "Epoch 14/50\n",
      "797/797 [==============================] - 5s 7ms/step - loss: 0.6923 - accuracy: 0.5155\n",
      "Epoch 15/50\n",
      "797/797 [==============================] - 5s 7ms/step - loss: 0.6923 - accuracy: 0.5164\n",
      "Epoch 16/50\n",
      "797/797 [==============================] - 5s 7ms/step - loss: 0.6921 - accuracy: 0.5179\n",
      "Epoch 17/50\n",
      "797/797 [==============================] - 5s 6ms/step - loss: 0.6923 - accuracy: 0.5156\n",
      "Epoch 18/50\n",
      "797/797 [==============================] - 5s 6ms/step - loss: 0.6922 - accuracy: 0.5176\n",
      "Epoch 19/50\n",
      "797/797 [==============================] - 5s 6ms/step - loss: 0.6923 - accuracy: 0.5152\n",
      "Epoch 20/50\n",
      "797/797 [==============================] - 5s 6ms/step - loss: 0.6921 - accuracy: 0.5162\n",
      "Epoch 21/50\n",
      "797/797 [==============================] - 5s 6ms/step - loss: 0.6921 - accuracy: 0.5140\n",
      "Epoch 22/50\n",
      "797/797 [==============================] - 5s 6ms/step - loss: 0.6922 - accuracy: 0.5176\n",
      "Epoch 23/50\n",
      "797/797 [==============================] - 5s 6ms/step - loss: 0.6921 - accuracy: 0.5189\n",
      "Epoch 24/50\n",
      "797/797 [==============================] - 5s 6ms/step - loss: 0.6921 - accuracy: 0.5185\n",
      "Epoch 25/50\n",
      "797/797 [==============================] - 5s 6ms/step - loss: 0.6921 - accuracy: 0.5176\n",
      "Epoch 26/50\n",
      "797/797 [==============================] - 5s 6ms/step - loss: 0.6921 - accuracy: 0.5177\n",
      "Epoch 27/50\n",
      "797/797 [==============================] - 5s 6ms/step - loss: 0.6921 - accuracy: 0.5186\n",
      "Epoch 28/50\n",
      "797/797 [==============================] - 5s 6ms/step - loss: 0.6919 - accuracy: 0.5183\n",
      "Epoch 29/50\n",
      "797/797 [==============================] - 5s 6ms/step - loss: 0.6920 - accuracy: 0.5210: 0s - loss: 0.6920 \n",
      "Epoch 30/50\n",
      "797/797 [==============================] - 5s 6ms/step - loss: 0.6920 - accuracy: 0.5177\n",
      "Epoch 31/50\n",
      "797/797 [==============================] - 5s 6ms/step - loss: 0.6920 - accuracy: 0.5175\n",
      "Epoch 32/50\n",
      "797/797 [==============================] - 5s 6ms/step - loss: 0.6920 - accuracy: 0.5160\n",
      "Epoch 33/50\n",
      "797/797 [==============================] - 5s 6ms/step - loss: 0.6919 - accuracy: 0.5172: 2s - loss: 0.6918 - accu - ETA: 1s - los\n",
      "Epoch 34/50\n",
      "797/797 [==============================] - 5s 6ms/step - loss: 0.6919 - accuracy: 0.5214\n",
      "Epoch 35/50\n",
      "797/797 [==============================] - 5s 6ms/step - loss: 0.6919 - accuracy: 0.5196\n",
      "Epoch 36/50\n",
      "797/797 [==============================] - 5s 6ms/step - loss: 0.6919 - accuracy: 0.5193: 0s - loss: 0.6919 - accuracy\n",
      "Epoch 37/50\n",
      "797/797 [==============================] - 5s 6ms/step - loss: 0.6919 - accuracy: 0.5187\n",
      "Epoch 38/50\n",
      "797/797 [==============================] - 5s 6ms/step - loss: 0.6919 - accuracy: 0.5168\n",
      "Epoch 39/50\n",
      "797/797 [==============================] - 5s 6ms/step - loss: 0.6919 - accuracy: 0.5187\n",
      "Epoch 40/50\n",
      "797/797 [==============================] - 5s 6ms/step - loss: 0.6917 - accuracy: 0.5193\n",
      "Epoch 41/50\n",
      "797/797 [==============================] - 5s 6ms/step - loss: 0.6918 - accuracy: 0.5154\n",
      "Epoch 42/50\n",
      "797/797 [==============================] - 5s 6ms/step - loss: 0.6918 - accuracy: 0.5198 ETA: 0s - loss: 0.6918 - ac\n",
      "Epoch 43/50\n",
      "797/797 [==============================] - 5s 6ms/step - loss: 0.6918 - accuracy: 0.5217\n",
      "Epoch 44/50\n",
      "797/797 [==============================] - 5s 6ms/step - loss: 0.6917 - accuracy: 0.5201\n",
      "Epoch 45/50\n",
      "797/797 [==============================] - 5s 6ms/step - loss: 0.6917 - accuracy: 0.5194\n",
      "Epoch 46/50\n",
      "797/797 [==============================] - 5s 6ms/step - loss: 0.6918 - accuracy: 0.5183\n",
      "Epoch 47/50\n",
      "797/797 [==============================] - 5s 6ms/step - loss: 0.6919 - accuracy: 0.5216\n",
      "Epoch 48/50\n",
      "797/797 [==============================] - 5s 6ms/step - loss: 0.6917 - accuracy: 0.5228\n",
      "Epoch 49/50\n",
      "797/797 [==============================] - 5s 6ms/step - loss: 0.6917 - accuracy: 0.5206\n",
      "Epoch 50/50\n",
      "797/797 [==============================] - 5s 6ms/step - loss: 0.6916 - accuracy: 0.5198\n"
     ]
    },
    {
     "data": {
      "text/plain": [
       "<keras.callbacks.History at 0x288db1efb20>"
      ]
     },
     "execution_count": 43,
     "metadata": {},
     "output_type": "execute_result"
    }
   ],
   "source": [
    "from tensorflow.keras.layers import Input, Conv1D, Dense, Lambda, Flatten, Concatenate\n",
    "from tensorflow.keras import Model\n",
    "from tensorflow.keras import metrics\n",
    "from tensorflow.keras.losses import CategoricalCrossentropy\n",
    "from tensorflow.keras import utils\n",
    "from sklearn.preprocessing import StandardScaler\n",
    "import numpy as np\n",
    "import math\n",
    "\n",
    "        \n",
    "inputs = Input(shape=(7,16))\n",
    "\n",
    "# extract our features using a Convolutional layers, hence \"CNN\"\n",
    "feature_extraction = Conv1D(64, 2, activation='relu')(inputs)\n",
    "# split layer into three regions based on time, hence \"Temporal\"\n",
    "long_term = Lambda( lambda x: tf.split(x, num_or_size_splits=3, axis=1)[0])(feature_extraction)\n",
    "mid_term = Lambda( lambda x: tf.split(x, num_or_size_splits=3, axis=1)[1])(feature_extraction)\n",
    "short_term = Lambda( lambda x: tf.split(x, num_or_size_splits=3, axis=1)[2])(feature_extraction)\n",
    "\n",
    "long_term_conv = Conv1D(1, 1, activation='relu')(long_term)\n",
    "mid_term_conv = Conv1D(1, 1, activation='relu')(mid_term)\n",
    "short_term_conv = Conv1D(1, 1, activation='relu')(short_term)\n",
    "\n",
    "# combine three layers back into one\n",
    "combined = Concatenate(axis=1)([long_term_conv, mid_term_conv, short_term_conv])\n",
    "\n",
    "# flattening is required since our input is a 2D matrix\n",
    "flattened = Flatten()(combined)\n",
    "\n",
    "# 1 output neuron for each class (Up, Stationary, Down --- see Direction class)\n",
    "x = Dense(20, activation='softmax')(flattened)\n",
    "outputs = Dense(1,activation=\"sigmoid\")(x)\n",
    "# specify input and output layers of our model\n",
    "model = Model(inputs=inputs, outputs=outputs)\n",
    "\n",
    "# compile our model\n",
    "model.compile(optimizer='adam',\n",
    "              loss=\"binary_crossentropy\",metrics=\"accuracy\")\n",
    "model.fit(windows, horizon, epochs=50)"
   ]
  },
  {
   "cell_type": "code",
   "execution_count": 44,
   "id": "2c833d4e",
   "metadata": {},
   "outputs": [
    {
     "name": "stdout",
     "output_type": "stream",
     "text": [
      "Epoch 1/50\n",
      "797/797 [==============================] - 5s 6ms/step - loss: 0.6917 - accuracy: 0.5203\n",
      "Epoch 2/50\n",
      "797/797 [==============================] - 4s 5ms/step - loss: 0.6917 - accuracy: 0.5198\n",
      "Epoch 3/50\n",
      "797/797 [==============================] - 4s 5ms/step - loss: 0.6918 - accuracy: 0.5192\n",
      "Epoch 4/50\n",
      "797/797 [==============================] - 4s 6ms/step - loss: 0.6918 - accuracy: 0.5192\n",
      "Epoch 5/50\n",
      "797/797 [==============================] - 5s 6ms/step - loss: 0.6917 - accuracy: 0.5180\n",
      "Epoch 6/50\n",
      "797/797 [==============================] - 5s 6ms/step - loss: 0.6917 - accuracy: 0.5203\n",
      "Epoch 7/50\n",
      "797/797 [==============================] - 5s 6ms/step - loss: 0.6918 - accuracy: 0.5208: 0s - loss: 0.6918 - ac\n",
      "Epoch 8/50\n",
      "797/797 [==============================] - 5s 6ms/step - loss: 0.6917 - accuracy: 0.5221\n",
      "Epoch 9/50\n",
      "797/797 [==============================] - 5s 6ms/step - loss: 0.6917 - accuracy: 0.5199\n",
      "Epoch 10/50\n",
      "797/797 [==============================] - 5s 6ms/step - loss: 0.6916 - accuracy: 0.5187\n",
      "Epoch 11/50\n",
      "797/797 [==============================] - 5s 6ms/step - loss: 0.6917 - accuracy: 0.5206\n",
      "Epoch 12/50\n",
      "797/797 [==============================] - 5s 6ms/step - loss: 0.6916 - accuracy: 0.5193: 0s - loss: 0\n",
      "Epoch 13/50\n",
      "797/797 [==============================] - 5s 6ms/step - loss: 0.6916 - accuracy: 0.5214\n",
      "Epoch 14/50\n",
      "797/797 [==============================] - 5s 6ms/step - loss: 0.6916 - accuracy: 0.5203\n",
      "Epoch 15/50\n",
      "797/797 [==============================] - 5s 6ms/step - loss: 0.6915 - accuracy: 0.5216\n",
      "Epoch 16/50\n",
      "797/797 [==============================] - 5s 6ms/step - loss: 0.6916 - accuracy: 0.5215\n",
      "Epoch 17/50\n",
      "797/797 [==============================] - 5s 6ms/step - loss: 0.6916 - accuracy: 0.5153\n",
      "Epoch 18/50\n",
      "797/797 [==============================] - 5s 6ms/step - loss: 0.6915 - accuracy: 0.5191\n",
      "Epoch 19/50\n",
      "797/797 [==============================] - 5s 6ms/step - loss: 0.6915 - accuracy: 0.5216\n",
      "Epoch 20/50\n",
      "797/797 [==============================] - 5s 6ms/step - loss: 0.6916 - accuracy: 0.5210\n",
      "Epoch 21/50\n",
      "797/797 [==============================] - 5s 6ms/step - loss: 0.6916 - accuracy: 0.5204\n",
      "Epoch 22/50\n",
      "797/797 [==============================] - 5s 6ms/step - loss: 0.6916 - accuracy: 0.5206\n",
      "Epoch 23/50\n",
      "797/797 [==============================] - 5s 6ms/step - loss: 0.6914 - accuracy: 0.5220\n",
      "Epoch 24/50\n",
      "797/797 [==============================] - 5s 6ms/step - loss: 0.6916 - accuracy: 0.5186\n",
      "Epoch 25/50\n",
      "797/797 [==============================] - 5s 6ms/step - loss: 0.6915 - accuracy: 0.5223\n",
      "Epoch 26/50\n",
      "797/797 [==============================] - 5s 6ms/step - loss: 0.6916 - accuracy: 0.5197\n",
      "Epoch 27/50\n",
      "797/797 [==============================] - 5s 6ms/step - loss: 0.6915 - accuracy: 0.5206\n",
      "Epoch 28/50\n",
      "797/797 [==============================] - 5s 6ms/step - loss: 0.6915 - accuracy: 0.5207\n",
      "Epoch 29/50\n",
      "797/797 [==============================] - 5s 6ms/step - loss: 0.6915 - accuracy: 0.5191\n",
      "Epoch 30/50\n",
      "797/797 [==============================] - 5s 6ms/step - loss: 0.6915 - accuracy: 0.5208\n",
      "Epoch 31/50\n",
      "797/797 [==============================] - 5s 6ms/step - loss: 0.6916 - accuracy: 0.5194\n",
      "Epoch 32/50\n",
      "797/797 [==============================] - 5s 6ms/step - loss: 0.6914 - accuracy: 0.5201\n",
      "Epoch 33/50\n",
      "797/797 [==============================] - 5s 6ms/step - loss: 0.6915 - accuracy: 0.5202\n",
      "Epoch 34/50\n",
      "797/797 [==============================] - 5s 6ms/step - loss: 0.6915 - accuracy: 0.5188\n",
      "Epoch 35/50\n",
      "797/797 [==============================] - 5s 6ms/step - loss: 0.6913 - accuracy: 0.5241\n",
      "Epoch 36/50\n",
      "797/797 [==============================] - 5s 6ms/step - loss: 0.6915 - accuracy: 0.5212\n",
      "Epoch 37/50\n",
      "797/797 [==============================] - 5s 6ms/step - loss: 0.6915 - accuracy: 0.5188\n",
      "Epoch 38/50\n",
      "797/797 [==============================] - 5s 6ms/step - loss: 0.6914 - accuracy: 0.5201\n",
      "Epoch 39/50\n",
      "797/797 [==============================] - 5s 6ms/step - loss: 0.6913 - accuracy: 0.5231\n",
      "Epoch 40/50\n",
      "797/797 [==============================] - 5s 6ms/step - loss: 0.6914 - accuracy: 0.5220\n",
      "Epoch 41/50\n",
      "797/797 [==============================] - 5s 6ms/step - loss: 0.6914 - accuracy: 0.5236\n",
      "Epoch 42/50\n",
      "797/797 [==============================] - 5s 6ms/step - loss: 0.6914 - accuracy: 0.5210\n",
      "Epoch 43/50\n",
      "797/797 [==============================] - 5s 6ms/step - loss: 0.6914 - accuracy: 0.5206\n",
      "Epoch 44/50\n",
      "797/797 [==============================] - 5s 6ms/step - loss: 0.6912 - accuracy: 0.5211\n",
      "Epoch 45/50\n",
      "797/797 [==============================] - 5s 6ms/step - loss: 0.6913 - accuracy: 0.5233\n",
      "Epoch 46/50\n",
      "797/797 [==============================] - 5s 6ms/step - loss: 0.6914 - accuracy: 0.5219\n",
      "Epoch 47/50\n",
      "797/797 [==============================] - 5s 6ms/step - loss: 0.6912 - accuracy: 0.5210: 0s - loss: 0.6912 - accuracy: 0.\n",
      "Epoch 48/50\n",
      "797/797 [==============================] - 5s 6ms/step - loss: 0.6914 - accuracy: 0.5221\n",
      "Epoch 49/50\n",
      "797/797 [==============================] - 5s 6ms/step - loss: 0.6914 - accuracy: 0.5221\n",
      "Epoch 50/50\n",
      "797/797 [==============================] - 5s 6ms/step - loss: 0.6912 - accuracy: 0.5207\n"
     ]
    },
    {
     "data": {
      "text/plain": [
       "<keras.callbacks.History at 0x28a7ff53070>"
      ]
     },
     "execution_count": 44,
     "metadata": {},
     "output_type": "execute_result"
    }
   ],
   "source": [
    "model.fit(windows, horizon, epochs=50)"
   ]
  },
  {
   "cell_type": "code",
   "execution_count": 57,
   "id": "62ec34ea",
   "metadata": {},
   "outputs": [],
   "source": [
    "model.compile(optimizer=tf.keras.optimizers.Adam(learning_rate=0.00001),\n",
    "              loss=\"binary_crossentropy\",metrics=\"accuracy\")"
   ]
  },
  {
   "cell_type": "code",
   "execution_count": 53,
   "id": "703b8cb0",
   "metadata": {},
   "outputs": [
    {
     "name": "stdout",
     "output_type": "stream",
     "text": [
      "Epoch 1/50\n",
      "797/797 [==============================] - 5s 6ms/step - loss: 0.6912 - accuracy: 0.5211\n",
      "Epoch 2/50\n",
      "797/797 [==============================] - 4s 5ms/step - loss: 0.6912 - accuracy: 0.5218\n",
      "Epoch 3/50\n",
      "797/797 [==============================] - 4s 6ms/step - loss: 0.6912 - accuracy: 0.5199\n",
      "Epoch 4/50\n",
      "797/797 [==============================] - 4s 6ms/step - loss: 0.6912 - accuracy: 0.5226\n",
      "Epoch 5/50\n",
      "797/797 [==============================] - 5s 6ms/step - loss: 0.6912 - accuracy: 0.5198\n",
      "Epoch 6/50\n",
      "797/797 [==============================] - 5s 6ms/step - loss: 0.6911 - accuracy: 0.5242\n",
      "Epoch 7/50\n",
      "797/797 [==============================] - 5s 6ms/step - loss: 0.6912 - accuracy: 0.5212\n",
      "Epoch 8/50\n",
      "797/797 [==============================] - 5s 6ms/step - loss: 0.6912 - accuracy: 0.5234\n",
      "Epoch 9/50\n",
      "797/797 [==============================] - 5s 6ms/step - loss: 0.6911 - accuracy: 0.5213\n",
      "Epoch 10/50\n",
      "797/797 [==============================] - 5s 6ms/step - loss: 0.6911 - accuracy: 0.5205\n",
      "Epoch 11/50\n",
      "797/797 [==============================] - 5s 6ms/step - loss: 0.6911 - accuracy: 0.5236\n",
      "Epoch 12/50\n",
      "368/797 [============>.................] - ETA: 2s - loss: 0.6907 - accuracy: 0.5257 ETA: 2s - loss: 0.6910 - accuracy"
     ]
    },
    {
     "ename": "KeyboardInterrupt",
     "evalue": "",
     "output_type": "error",
     "traceback": [
      "\u001b[1;31m---------------------------------------------------------------------------\u001b[0m",
      "\u001b[1;31mKeyboardInterrupt\u001b[0m                         Traceback (most recent call last)",
      "\u001b[1;32mC:\\Users\\HARSHV~1\\AppData\\Local\\Temp/ipykernel_9228/2899192247.py\u001b[0m in \u001b[0;36m<module>\u001b[1;34m\u001b[0m\n\u001b[1;32m----> 1\u001b[1;33m \u001b[0mmodel\u001b[0m\u001b[1;33m.\u001b[0m\u001b[0mfit\u001b[0m\u001b[1;33m(\u001b[0m\u001b[0mwindows\u001b[0m\u001b[1;33m,\u001b[0m \u001b[0mhorizon\u001b[0m\u001b[1;33m,\u001b[0m \u001b[0mepochs\u001b[0m\u001b[1;33m=\u001b[0m\u001b[1;36m50\u001b[0m\u001b[1;33m)\u001b[0m\u001b[1;33m\u001b[0m\u001b[1;33m\u001b[0m\u001b[0m\n\u001b[0m",
      "\u001b[1;32mc:\\users\\harshvardhan bhosale\\onedrive\\desktop\\stock market\\venv1\\lib\\site-packages\\keras\\utils\\traceback_utils.py\u001b[0m in \u001b[0;36merror_handler\u001b[1;34m(*args, **kwargs)\u001b[0m\n\u001b[0;32m     62\u001b[0m     \u001b[0mfiltered_tb\u001b[0m \u001b[1;33m=\u001b[0m \u001b[1;32mNone\u001b[0m\u001b[1;33m\u001b[0m\u001b[1;33m\u001b[0m\u001b[0m\n\u001b[0;32m     63\u001b[0m     \u001b[1;32mtry\u001b[0m\u001b[1;33m:\u001b[0m\u001b[1;33m\u001b[0m\u001b[1;33m\u001b[0m\u001b[0m\n\u001b[1;32m---> 64\u001b[1;33m       \u001b[1;32mreturn\u001b[0m \u001b[0mfn\u001b[0m\u001b[1;33m(\u001b[0m\u001b[1;33m*\u001b[0m\u001b[0margs\u001b[0m\u001b[1;33m,\u001b[0m \u001b[1;33m**\u001b[0m\u001b[0mkwargs\u001b[0m\u001b[1;33m)\u001b[0m\u001b[1;33m\u001b[0m\u001b[1;33m\u001b[0m\u001b[0m\n\u001b[0m\u001b[0;32m     65\u001b[0m     \u001b[1;32mexcept\u001b[0m \u001b[0mException\u001b[0m \u001b[1;32mas\u001b[0m \u001b[0me\u001b[0m\u001b[1;33m:\u001b[0m  \u001b[1;31m# pylint: disable=broad-except\u001b[0m\u001b[1;33m\u001b[0m\u001b[1;33m\u001b[0m\u001b[0m\n\u001b[0;32m     66\u001b[0m       \u001b[0mfiltered_tb\u001b[0m \u001b[1;33m=\u001b[0m \u001b[0m_process_traceback_frames\u001b[0m\u001b[1;33m(\u001b[0m\u001b[0me\u001b[0m\u001b[1;33m.\u001b[0m\u001b[0m__traceback__\u001b[0m\u001b[1;33m)\u001b[0m\u001b[1;33m\u001b[0m\u001b[1;33m\u001b[0m\u001b[0m\n",
      "\u001b[1;32mc:\\users\\harshvardhan bhosale\\onedrive\\desktop\\stock market\\venv1\\lib\\site-packages\\keras\\engine\\training.py\u001b[0m in \u001b[0;36mfit\u001b[1;34m(self, x, y, batch_size, epochs, verbose, callbacks, validation_split, validation_data, shuffle, class_weight, sample_weight, initial_epoch, steps_per_epoch, validation_steps, validation_batch_size, validation_freq, max_queue_size, workers, use_multiprocessing)\u001b[0m\n\u001b[0;32m   1214\u001b[0m                 _r=1):\n\u001b[0;32m   1215\u001b[0m               \u001b[0mcallbacks\u001b[0m\u001b[1;33m.\u001b[0m\u001b[0mon_train_batch_begin\u001b[0m\u001b[1;33m(\u001b[0m\u001b[0mstep\u001b[0m\u001b[1;33m)\u001b[0m\u001b[1;33m\u001b[0m\u001b[1;33m\u001b[0m\u001b[0m\n\u001b[1;32m-> 1216\u001b[1;33m               \u001b[0mtmp_logs\u001b[0m \u001b[1;33m=\u001b[0m \u001b[0mself\u001b[0m\u001b[1;33m.\u001b[0m\u001b[0mtrain_function\u001b[0m\u001b[1;33m(\u001b[0m\u001b[0miterator\u001b[0m\u001b[1;33m)\u001b[0m\u001b[1;33m\u001b[0m\u001b[1;33m\u001b[0m\u001b[0m\n\u001b[0m\u001b[0;32m   1217\u001b[0m               \u001b[1;32mif\u001b[0m \u001b[0mdata_handler\u001b[0m\u001b[1;33m.\u001b[0m\u001b[0mshould_sync\u001b[0m\u001b[1;33m:\u001b[0m\u001b[1;33m\u001b[0m\u001b[1;33m\u001b[0m\u001b[0m\n\u001b[0;32m   1218\u001b[0m                 \u001b[0mcontext\u001b[0m\u001b[1;33m.\u001b[0m\u001b[0masync_wait\u001b[0m\u001b[1;33m(\u001b[0m\u001b[1;33m)\u001b[0m\u001b[1;33m\u001b[0m\u001b[1;33m\u001b[0m\u001b[0m\n",
      "\u001b[1;32mc:\\users\\harshvardhan bhosale\\onedrive\\desktop\\stock market\\venv1\\lib\\site-packages\\tensorflow\\python\\util\\traceback_utils.py\u001b[0m in \u001b[0;36merror_handler\u001b[1;34m(*args, **kwargs)\u001b[0m\n\u001b[0;32m    148\u001b[0m     \u001b[0mfiltered_tb\u001b[0m \u001b[1;33m=\u001b[0m \u001b[1;32mNone\u001b[0m\u001b[1;33m\u001b[0m\u001b[1;33m\u001b[0m\u001b[0m\n\u001b[0;32m    149\u001b[0m     \u001b[1;32mtry\u001b[0m\u001b[1;33m:\u001b[0m\u001b[1;33m\u001b[0m\u001b[1;33m\u001b[0m\u001b[0m\n\u001b[1;32m--> 150\u001b[1;33m       \u001b[1;32mreturn\u001b[0m \u001b[0mfn\u001b[0m\u001b[1;33m(\u001b[0m\u001b[1;33m*\u001b[0m\u001b[0margs\u001b[0m\u001b[1;33m,\u001b[0m \u001b[1;33m**\u001b[0m\u001b[0mkwargs\u001b[0m\u001b[1;33m)\u001b[0m\u001b[1;33m\u001b[0m\u001b[1;33m\u001b[0m\u001b[0m\n\u001b[0m\u001b[0;32m    151\u001b[0m     \u001b[1;32mexcept\u001b[0m \u001b[0mException\u001b[0m \u001b[1;32mas\u001b[0m \u001b[0me\u001b[0m\u001b[1;33m:\u001b[0m\u001b[1;33m\u001b[0m\u001b[1;33m\u001b[0m\u001b[0m\n\u001b[0;32m    152\u001b[0m       \u001b[0mfiltered_tb\u001b[0m \u001b[1;33m=\u001b[0m \u001b[0m_process_traceback_frames\u001b[0m\u001b[1;33m(\u001b[0m\u001b[0me\u001b[0m\u001b[1;33m.\u001b[0m\u001b[0m__traceback__\u001b[0m\u001b[1;33m)\u001b[0m\u001b[1;33m\u001b[0m\u001b[1;33m\u001b[0m\u001b[0m\n",
      "\u001b[1;32mc:\\users\\harshvardhan bhosale\\onedrive\\desktop\\stock market\\venv1\\lib\\site-packages\\tensorflow\\python\\eager\\def_function.py\u001b[0m in \u001b[0;36m__call__\u001b[1;34m(self, *args, **kwds)\u001b[0m\n\u001b[0;32m    908\u001b[0m \u001b[1;33m\u001b[0m\u001b[0m\n\u001b[0;32m    909\u001b[0m       \u001b[1;32mwith\u001b[0m \u001b[0mOptionalXlaContext\u001b[0m\u001b[1;33m(\u001b[0m\u001b[0mself\u001b[0m\u001b[1;33m.\u001b[0m\u001b[0m_jit_compile\u001b[0m\u001b[1;33m)\u001b[0m\u001b[1;33m:\u001b[0m\u001b[1;33m\u001b[0m\u001b[1;33m\u001b[0m\u001b[0m\n\u001b[1;32m--> 910\u001b[1;33m         \u001b[0mresult\u001b[0m \u001b[1;33m=\u001b[0m \u001b[0mself\u001b[0m\u001b[1;33m.\u001b[0m\u001b[0m_call\u001b[0m\u001b[1;33m(\u001b[0m\u001b[1;33m*\u001b[0m\u001b[0margs\u001b[0m\u001b[1;33m,\u001b[0m \u001b[1;33m**\u001b[0m\u001b[0mkwds\u001b[0m\u001b[1;33m)\u001b[0m\u001b[1;33m\u001b[0m\u001b[1;33m\u001b[0m\u001b[0m\n\u001b[0m\u001b[0;32m    911\u001b[0m \u001b[1;33m\u001b[0m\u001b[0m\n\u001b[0;32m    912\u001b[0m       \u001b[0mnew_tracing_count\u001b[0m \u001b[1;33m=\u001b[0m \u001b[0mself\u001b[0m\u001b[1;33m.\u001b[0m\u001b[0mexperimental_get_tracing_count\u001b[0m\u001b[1;33m(\u001b[0m\u001b[1;33m)\u001b[0m\u001b[1;33m\u001b[0m\u001b[1;33m\u001b[0m\u001b[0m\n",
      "\u001b[1;32mc:\\users\\harshvardhan bhosale\\onedrive\\desktop\\stock market\\venv1\\lib\\site-packages\\tensorflow\\python\\eager\\def_function.py\u001b[0m in \u001b[0;36m_call\u001b[1;34m(self, *args, **kwds)\u001b[0m\n\u001b[0;32m    940\u001b[0m       \u001b[1;31m# In this case we have created variables on the first call, so we run the\u001b[0m\u001b[1;33m\u001b[0m\u001b[1;33m\u001b[0m\u001b[1;33m\u001b[0m\u001b[0m\n\u001b[0;32m    941\u001b[0m       \u001b[1;31m# defunned version which is guaranteed to never create variables.\u001b[0m\u001b[1;33m\u001b[0m\u001b[1;33m\u001b[0m\u001b[1;33m\u001b[0m\u001b[0m\n\u001b[1;32m--> 942\u001b[1;33m       \u001b[1;32mreturn\u001b[0m \u001b[0mself\u001b[0m\u001b[1;33m.\u001b[0m\u001b[0m_stateless_fn\u001b[0m\u001b[1;33m(\u001b[0m\u001b[1;33m*\u001b[0m\u001b[0margs\u001b[0m\u001b[1;33m,\u001b[0m \u001b[1;33m**\u001b[0m\u001b[0mkwds\u001b[0m\u001b[1;33m)\u001b[0m  \u001b[1;31m# pylint: disable=not-callable\u001b[0m\u001b[1;33m\u001b[0m\u001b[1;33m\u001b[0m\u001b[0m\n\u001b[0m\u001b[0;32m    943\u001b[0m     \u001b[1;32melif\u001b[0m \u001b[0mself\u001b[0m\u001b[1;33m.\u001b[0m\u001b[0m_stateful_fn\u001b[0m \u001b[1;32mis\u001b[0m \u001b[1;32mnot\u001b[0m \u001b[1;32mNone\u001b[0m\u001b[1;33m:\u001b[0m\u001b[1;33m\u001b[0m\u001b[1;33m\u001b[0m\u001b[0m\n\u001b[0;32m    944\u001b[0m       \u001b[1;31m# Release the lock early so that multiple threads can perform the call\u001b[0m\u001b[1;33m\u001b[0m\u001b[1;33m\u001b[0m\u001b[1;33m\u001b[0m\u001b[0m\n",
      "\u001b[1;32mc:\\users\\harshvardhan bhosale\\onedrive\\desktop\\stock market\\venv1\\lib\\site-packages\\tensorflow\\python\\eager\\function.py\u001b[0m in \u001b[0;36m__call__\u001b[1;34m(self, *args, **kwargs)\u001b[0m\n\u001b[0;32m   3128\u001b[0m       (graph_function,\n\u001b[0;32m   3129\u001b[0m        filtered_flat_args) = self._maybe_define_function(args, kwargs)\n\u001b[1;32m-> 3130\u001b[1;33m     return graph_function._call_flat(\n\u001b[0m\u001b[0;32m   3131\u001b[0m         filtered_flat_args, captured_inputs=graph_function.captured_inputs)  # pylint: disable=protected-access\n\u001b[0;32m   3132\u001b[0m \u001b[1;33m\u001b[0m\u001b[0m\n",
      "\u001b[1;32mc:\\users\\harshvardhan bhosale\\onedrive\\desktop\\stock market\\venv1\\lib\\site-packages\\tensorflow\\python\\eager\\function.py\u001b[0m in \u001b[0;36m_call_flat\u001b[1;34m(self, args, captured_inputs, cancellation_manager)\u001b[0m\n\u001b[0;32m   1957\u001b[0m         and executing_eagerly):\n\u001b[0;32m   1958\u001b[0m       \u001b[1;31m# No tape is watching; skip to running the function.\u001b[0m\u001b[1;33m\u001b[0m\u001b[1;33m\u001b[0m\u001b[1;33m\u001b[0m\u001b[0m\n\u001b[1;32m-> 1959\u001b[1;33m       return self._build_call_outputs(self._inference_function.call(\n\u001b[0m\u001b[0;32m   1960\u001b[0m           ctx, args, cancellation_manager=cancellation_manager))\n\u001b[0;32m   1961\u001b[0m     forward_backward = self._select_forward_and_backward_functions(\n",
      "\u001b[1;32mc:\\users\\harshvardhan bhosale\\onedrive\\desktop\\stock market\\venv1\\lib\\site-packages\\tensorflow\\python\\eager\\function.py\u001b[0m in \u001b[0;36mcall\u001b[1;34m(self, ctx, args, cancellation_manager)\u001b[0m\n\u001b[0;32m    596\u001b[0m       \u001b[1;32mwith\u001b[0m \u001b[0m_InterpolateFunctionError\u001b[0m\u001b[1;33m(\u001b[0m\u001b[0mself\u001b[0m\u001b[1;33m)\u001b[0m\u001b[1;33m:\u001b[0m\u001b[1;33m\u001b[0m\u001b[1;33m\u001b[0m\u001b[0m\n\u001b[0;32m    597\u001b[0m         \u001b[1;32mif\u001b[0m \u001b[0mcancellation_manager\u001b[0m \u001b[1;32mis\u001b[0m \u001b[1;32mNone\u001b[0m\u001b[1;33m:\u001b[0m\u001b[1;33m\u001b[0m\u001b[1;33m\u001b[0m\u001b[0m\n\u001b[1;32m--> 598\u001b[1;33m           outputs = execute.execute(\n\u001b[0m\u001b[0;32m    599\u001b[0m               \u001b[0mstr\u001b[0m\u001b[1;33m(\u001b[0m\u001b[0mself\u001b[0m\u001b[1;33m.\u001b[0m\u001b[0msignature\u001b[0m\u001b[1;33m.\u001b[0m\u001b[0mname\u001b[0m\u001b[1;33m)\u001b[0m\u001b[1;33m,\u001b[0m\u001b[1;33m\u001b[0m\u001b[1;33m\u001b[0m\u001b[0m\n\u001b[0;32m    600\u001b[0m               \u001b[0mnum_outputs\u001b[0m\u001b[1;33m=\u001b[0m\u001b[0mself\u001b[0m\u001b[1;33m.\u001b[0m\u001b[0m_num_outputs\u001b[0m\u001b[1;33m,\u001b[0m\u001b[1;33m\u001b[0m\u001b[1;33m\u001b[0m\u001b[0m\n",
      "\u001b[1;32mc:\\users\\harshvardhan bhosale\\onedrive\\desktop\\stock market\\venv1\\lib\\site-packages\\tensorflow\\python\\eager\\execute.py\u001b[0m in \u001b[0;36mquick_execute\u001b[1;34m(op_name, num_outputs, inputs, attrs, ctx, name)\u001b[0m\n\u001b[0;32m     56\u001b[0m   \u001b[1;32mtry\u001b[0m\u001b[1;33m:\u001b[0m\u001b[1;33m\u001b[0m\u001b[1;33m\u001b[0m\u001b[0m\n\u001b[0;32m     57\u001b[0m     \u001b[0mctx\u001b[0m\u001b[1;33m.\u001b[0m\u001b[0mensure_initialized\u001b[0m\u001b[1;33m(\u001b[0m\u001b[1;33m)\u001b[0m\u001b[1;33m\u001b[0m\u001b[1;33m\u001b[0m\u001b[0m\n\u001b[1;32m---> 58\u001b[1;33m     tensors = pywrap_tfe.TFE_Py_Execute(ctx._handle, device_name, op_name,\n\u001b[0m\u001b[0;32m     59\u001b[0m                                         inputs, attrs, num_outputs)\n\u001b[0;32m     60\u001b[0m   \u001b[1;32mexcept\u001b[0m \u001b[0mcore\u001b[0m\u001b[1;33m.\u001b[0m\u001b[0m_NotOkStatusException\u001b[0m \u001b[1;32mas\u001b[0m \u001b[0me\u001b[0m\u001b[1;33m:\u001b[0m\u001b[1;33m\u001b[0m\u001b[1;33m\u001b[0m\u001b[0m\n",
      "\u001b[1;31mKeyboardInterrupt\u001b[0m: "
     ]
    }
   ],
   "source": [
    "model.fit(windows, horizon, epochs=50)"
   ]
  },
  {
   "cell_type": "code",
   "execution_count": 48,
   "id": "42cb4a2c",
   "metadata": {},
   "outputs": [
    {
     "name": "stdout",
     "output_type": "stream",
     "text": [
      "Epoch 1/50\n",
      "797/797 [==============================] - 5s 6ms/step - loss: 0.6906 - accuracy: 0.5248\n",
      "Epoch 2/50\n",
      "797/797 [==============================] - 5s 6ms/step - loss: 0.6906 - accuracy: 0.5250\n",
      "Epoch 3/50\n",
      "797/797 [==============================] - 5s 6ms/step - loss: 0.6906 - accuracy: 0.5249\n",
      "Epoch 4/50\n",
      "797/797 [==============================] - 5s 6ms/step - loss: 0.6906 - accuracy: 0.5243\n",
      "Epoch 5/50\n",
      "797/797 [==============================] - 5s 6ms/step - loss: 0.6906 - accuracy: 0.5246\n",
      "Epoch 6/50\n",
      "797/797 [==============================] - 5s 6ms/step - loss: 0.6906 - accuracy: 0.5248\n",
      "Epoch 7/50\n",
      "797/797 [==============================] - 5s 6ms/step - loss: 0.6906 - accuracy: 0.5247\n",
      "Epoch 8/50\n",
      "797/797 [==============================] - 5s 6ms/step - loss: 0.6906 - accuracy: 0.5249\n",
      "Epoch 9/50\n",
      "797/797 [==============================] - 5s 6ms/step - loss: 0.6906 - accuracy: 0.5252\n",
      "Epoch 10/50\n",
      "797/797 [==============================] - 5s 6ms/step - loss: 0.6906 - accuracy: 0.5245\n",
      "Epoch 11/50\n",
      "797/797 [==============================] - 5s 6ms/step - loss: 0.6906 - accuracy: 0.5250\n",
      "Epoch 12/50\n",
      "797/797 [==============================] - 5s 6ms/step - loss: 0.6906 - accuracy: 0.5249\n",
      "Epoch 13/50\n",
      "797/797 [==============================] - 5s 6ms/step - loss: 0.6906 - accuracy: 0.5247\n",
      "Epoch 14/50\n",
      "797/797 [==============================] - 5s 6ms/step - loss: 0.6906 - accuracy: 0.5247\n",
      "Epoch 15/50\n",
      "797/797 [==============================] - 5s 6ms/step - loss: 0.6906 - accuracy: 0.5249\n",
      "Epoch 16/50\n",
      "797/797 [==============================] - 5s 6ms/step - loss: 0.6906 - accuracy: 0.5247\n",
      "Epoch 17/50\n",
      "797/797 [==============================] - ETA: 0s - loss: 0.6906 - accuracy: 0.52 - 5s 6ms/step - loss: 0.6906 - accuracy: 0.5250\n",
      "Epoch 18/50\n",
      "797/797 [==============================] - 5s 6ms/step - loss: 0.6906 - accuracy: 0.5248: 0s\n",
      "Epoch 19/50\n",
      "797/797 [==============================] - 5s 6ms/step - loss: 0.6906 - accuracy: 0.5249: 2s - - E - ETA: 0s -\n",
      "Epoch 20/50\n",
      "797/797 [==============================] - 5s 6ms/step - loss: 0.6906 - accuracy: 0.5248: 1s - loss: 0 - ETA: 0s - loss: 0.6904 \n",
      "Epoch 21/50\n",
      "797/797 [==============================] - 5s 6ms/step - loss: 0.6906 - accuracy: 0.5249\n",
      "Epoch 22/50\n",
      "797/797 [==============================] - 5s 6ms/step - loss: 0.6906 - accuracy: 0.5246\n",
      "Epoch 23/50\n",
      "797/797 [==============================] - 5s 6ms/step - loss: 0.6906 - accuracy: 0.5254\n",
      "Epoch 24/50\n",
      "797/797 [==============================] - 5s 6ms/step - loss: 0.6906 - accuracy: 0.5247\n",
      "Epoch 25/50\n",
      "797/797 [==============================] - 5s 6ms/step - loss: 0.6906 - accuracy: 0.5250 - - ETA: 0s - loss: 0.6903 - ac - ETA: 0s - loss: 0\n",
      "Epoch 26/50\n",
      "797/797 [==============================] - 5s 6ms/step - loss: 0.6906 - accuracy: 0.5250\n",
      "Epoch 27/50\n",
      "797/797 [==============================] - 5s 6ms/step - loss: 0.6906 - accuracy: 0.5250\n",
      "Epoch 28/50\n",
      "797/797 [==============================] - 5s 6ms/step - loss: 0.6906 - accuracy: 0.5245\n",
      "Epoch 29/50\n",
      "797/797 [==============================] - 5s 6ms/step - loss: 0.6906 - accuracy: 0.5245\n",
      "Epoch 30/50\n",
      "797/797 [==============================] - 5s 6ms/step - loss: 0.6906 - accuracy: 0.5248: 0s - loss: 0.6\n",
      "Epoch 31/50\n",
      "797/797 [==============================] - 5s 6ms/step - loss: 0.6906 - accuracy: 0.5248\n",
      "Epoch 32/50\n",
      "797/797 [==============================] - 5s 7ms/step - loss: 0.6906 - accuracy: 0.5250: 0s - loss: 0\n",
      "Epoch 33/50\n",
      "797/797 [==============================] - 5s 7ms/step - loss: 0.6906 - accuracy: 0.5247\n",
      "Epoch 34/50\n",
      "797/797 [==============================] - 5s 6ms/step - loss: 0.6906 - accuracy: 0.5250\n",
      "Epoch 35/50\n",
      "797/797 [==============================] - 5s 6ms/step - loss: 0.6906 - accuracy: 0.5249\n",
      "Epoch 36/50\n",
      "797/797 [==============================] - 5s 6ms/step - loss: 0.6906 - accuracy: 0.5248\n",
      "Epoch 37/50\n",
      "797/797 [==============================] - 5s 6ms/step - loss: 0.6906 - accuracy: 0.5246\n",
      "Epoch 38/50\n",
      "797/797 [==============================] - 5s 6ms/step - loss: 0.6906 - accuracy: 0.5245\n",
      "Epoch 39/50\n",
      "797/797 [==============================] - 5s 6ms/step - loss: 0.6906 - accuracy: 0.5251\n",
      "Epoch 40/50\n",
      "797/797 [==============================] - 5s 6ms/step - loss: 0.6906 - accuracy: 0.5247: 0s - loss: 0.6904 - accu\n",
      "Epoch 41/50\n",
      "797/797 [==============================] - 5s 6ms/step - loss: 0.6906 - accuracy: 0.5247\n",
      "Epoch 42/50\n",
      "797/797 [==============================] - 5s 6ms/step - loss: 0.6906 - accuracy: 0.5246\n",
      "Epoch 43/50\n",
      "797/797 [==============================] - 5s 6ms/step - loss: 0.6906 - accuracy: 0.5250\n",
      "Epoch 44/50\n",
      "797/797 [==============================] - 5s 6ms/step - loss: 0.6906 - accuracy: 0.5247\n",
      "Epoch 45/50\n",
      "797/797 [==============================] - 5s 6ms/step - loss: 0.6906 - accuracy: 0.5246\n",
      "Epoch 46/50\n",
      "797/797 [==============================] - 5s 6ms/step - loss: 0.6906 - accuracy: 0.5251\n",
      "Epoch 47/50\n",
      "797/797 [==============================] - 5s 6ms/step - loss: 0.6906 - accuracy: 0.5249\n",
      "Epoch 48/50\n",
      "797/797 [==============================] - 5s 6ms/step - loss: 0.6906 - accuracy: 0.5245\n",
      "Epoch 49/50\n",
      "797/797 [==============================] - 5s 6ms/step - loss: 0.6906 - accuracy: 0.5249\n",
      "Epoch 50/50\n",
      "797/797 [==============================] - 5s 6ms/step - loss: 0.6906 - accuracy: 0.5248\n"
     ]
    },
    {
     "data": {
      "text/plain": [
       "<keras.callbacks.History at 0x28a898e9e20>"
      ]
     },
     "execution_count": 48,
     "metadata": {},
     "output_type": "execute_result"
    }
   ],
   "source": [
    "model.fit(windows, horizon, epochs=50)"
   ]
  },
  {
   "cell_type": "code",
   "execution_count": 58,
   "id": "52352074",
   "metadata": {},
   "outputs": [
    {
     "name": "stdout",
     "output_type": "stream",
     "text": [
      "Epoch 1/50\n",
      "797/797 [==============================] - 5s 6ms/step - loss: 0.6906 - accuracy: 0.5245\n",
      "Epoch 2/50\n",
      "797/797 [==============================] - 5s 6ms/step - loss: 0.6906 - accuracy: 0.5252\n",
      "Epoch 3/50\n",
      "797/797 [==============================] - 5s 7ms/step - loss: 0.6906 - accuracy: 0.5248\n",
      "Epoch 4/50\n",
      "797/797 [==============================] - 8s 10ms/step - loss: 0.6906 - accuracy: 0.5245\n",
      "Epoch 5/50\n",
      "797/797 [==============================] - 8s 10ms/step - loss: 0.6906 - accuracy: 0.5249\n",
      "Epoch 6/50\n",
      "797/797 [==============================] - 8s 10ms/step - loss: 0.6906 - accuracy: 0.5246\n",
      "Epoch 7/50\n",
      "797/797 [==============================] - 8s 10ms/step - loss: 0.6906 - accuracy: 0.5250\n",
      "Epoch 8/50\n",
      "797/797 [==============================] - 8s 10ms/step - loss: 0.6906 - accuracy: 0.5247\n",
      "Epoch 9/50\n",
      "797/797 [==============================] - 8s 10ms/step - loss: 0.6906 - accuracy: 0.5251\n",
      "Epoch 10/50\n",
      "797/797 [==============================] - 8s 10ms/step - loss: 0.6906 - accuracy: 0.5248\n",
      "Epoch 11/50\n",
      "797/797 [==============================] - 8s 10ms/step - loss: 0.6906 - accuracy: 0.5251\n",
      "Epoch 12/50\n",
      "797/797 [==============================] - 8s 10ms/step - loss: 0.6906 - accuracy: 0.5245\n",
      "Epoch 13/50\n",
      "797/797 [==============================] - 8s 10ms/step - loss: 0.6906 - accuracy: 0.5251\n",
      "Epoch 14/50\n",
      "797/797 [==============================] - 8s 10ms/step - loss: 0.6906 - accuracy: 0.5247\n",
      "Epoch 15/50\n",
      "797/797 [==============================] - 8s 10ms/step - loss: 0.6906 - accuracy: 0.5246\n",
      "Epoch 16/50\n",
      "797/797 [==============================] - 8s 10ms/step - loss: 0.6906 - accuracy: 0.5250\n",
      "Epoch 17/50\n",
      "797/797 [==============================] - 8s 10ms/step - loss: 0.6906 - accuracy: 0.5250\n",
      "Epoch 18/50\n",
      "797/797 [==============================] - 8s 10ms/step - loss: 0.6906 - accuracy: 0.5249\n",
      "Epoch 19/50\n",
      "797/797 [==============================] - 8s 10ms/step - loss: 0.6906 - accuracy: 0.5250\n",
      "Epoch 20/50\n",
      "797/797 [==============================] - 8s 10ms/step - loss: 0.6906 - accuracy: 0.5252\n",
      "Epoch 21/50\n",
      "797/797 [==============================] - 8s 10ms/step - loss: 0.6906 - accuracy: 0.5247\n",
      "Epoch 22/50\n",
      "797/797 [==============================] - 8s 10ms/step - loss: 0.6906 - accuracy: 0.5249\n",
      "Epoch 23/50\n",
      "797/797 [==============================] - 8s 10ms/step - loss: 0.6906 - accuracy: 0.5248\n",
      "Epoch 24/50\n",
      "797/797 [==============================] - 8s 10ms/step - loss: 0.6906 - accuracy: 0.5247\n",
      "Epoch 25/50\n",
      "797/797 [==============================] - 8s 10ms/step - loss: 0.6906 - accuracy: 0.5251\n",
      "Epoch 26/50\n",
      "797/797 [==============================] - 8s 10ms/step - loss: 0.6906 - accuracy: 0.5245\n",
      "Epoch 27/50\n",
      "797/797 [==============================] - 8s 10ms/step - loss: 0.6906 - accuracy: 0.5248\n",
      "Epoch 28/50\n",
      "797/797 [==============================] - 8s 10ms/step - loss: 0.6906 - accuracy: 0.5250\n",
      "Epoch 29/50\n",
      "797/797 [==============================] - 8s 10ms/step - loss: 0.6906 - accuracy: 0.5248\n",
      "Epoch 30/50\n",
      "797/797 [==============================] - 8s 10ms/step - loss: 0.6906 - accuracy: 0.5246\n",
      "Epoch 31/50\n",
      "797/797 [==============================] - 4s 6ms/step - loss: 0.6906 - accuracy: 0.5248\n",
      "Epoch 32/50\n",
      "797/797 [==============================] - 4s 6ms/step - loss: 0.6906 - accuracy: 0.5248\n",
      "Epoch 33/50\n",
      "797/797 [==============================] - 5s 6ms/step - loss: 0.6906 - accuracy: 0.5249\n",
      "Epoch 34/50\n",
      "797/797 [==============================] - 5s 6ms/step - loss: 0.6906 - accuracy: 0.5249\n",
      "Epoch 35/50\n",
      "797/797 [==============================] - 5s 6ms/step - loss: 0.6906 - accuracy: 0.5248\n",
      "Epoch 36/50\n",
      "797/797 [==============================] - 5s 6ms/step - loss: 0.6906 - accuracy: 0.5249\n",
      "Epoch 37/50\n",
      "797/797 [==============================] - 5s 6ms/step - loss: 0.6906 - accuracy: 0.5253\n",
      "Epoch 38/50\n",
      "797/797 [==============================] - 5s 6ms/step - loss: 0.6906 - accuracy: 0.5246\n",
      "Epoch 39/50\n",
      "797/797 [==============================] - 5s 6ms/step - loss: 0.6906 - accuracy: 0.5246\n",
      "Epoch 40/50\n",
      "797/797 [==============================] - 5s 6ms/step - loss: 0.6906 - accuracy: 0.5248\n",
      "Epoch 41/50\n",
      "797/797 [==============================] - 5s 6ms/step - loss: 0.6906 - accuracy: 0.5249\n",
      "Epoch 42/50\n",
      "797/797 [==============================] - 5s 6ms/step - loss: 0.6906 - accuracy: 0.5249\n",
      "Epoch 43/50\n",
      "797/797 [==============================] - 4s 5ms/step - loss: 0.6906 - accuracy: 0.5246\n",
      "Epoch 44/50\n",
      "797/797 [==============================] - 5s 6ms/step - loss: 0.6906 - accuracy: 0.5249\n",
      "Epoch 45/50\n",
      "797/797 [==============================] - 5s 6ms/step - loss: 0.6906 - accuracy: 0.5248\n",
      "Epoch 46/50\n",
      "797/797 [==============================] - 5s 6ms/step - loss: 0.6906 - accuracy: 0.5246\n",
      "Epoch 47/50\n",
      "797/797 [==============================] - 4s 6ms/step - loss: 0.6906 - accuracy: 0.5250\n",
      "Epoch 48/50\n",
      "797/797 [==============================] - 4s 6ms/step - loss: 0.6906 - accuracy: 0.5249\n",
      "Epoch 49/50\n",
      "797/797 [==============================] - 5s 6ms/step - loss: 0.6906 - accuracy: 0.5250\n",
      "Epoch 50/50\n",
      "797/797 [==============================] - 4s 6ms/step - loss: 0.6906 - accuracy: 0.5252\n"
     ]
    },
    {
     "data": {
      "text/plain": [
       "<keras.callbacks.History at 0x28aa9791fa0>"
      ]
     },
     "execution_count": 58,
     "metadata": {},
     "output_type": "execute_result"
    }
   ],
   "source": [
    "model.fit(windows, horizon, epochs=50)"
   ]
  },
  {
   "cell_type": "code",
   "execution_count": 51,
   "id": "c1c0aafd",
   "metadata": {},
   "outputs": [],
   "source": [
    "model.save(\"model1.h5\")"
   ]
  },
  {
   "cell_type": "code",
   "execution_count": 56,
   "id": "18155eea",
   "metadata": {},
   "outputs": [],
   "source": [
    "model = tf.keras.models.load_model('model1.h5')"
   ]
  },
  {
   "cell_type": "code",
   "execution_count": 60,
   "id": "28c82653",
   "metadata": {},
   "outputs": [
    {
     "data": {
      "text/plain": [
       "(10317, 16)"
      ]
     },
     "execution_count": 60,
     "metadata": {},
     "output_type": "execute_result"
    }
   ],
   "source": [
    "test = pd.read_csv(\"test_data.csv\")\n",
    "test.drop([\"Id\",\"date\"],axis=1,inplace=True)\n",
    "test = test.values\n",
    "from sklearn.preprocessing import MinMaxScaler\n",
    "mms = MinMaxScaler()\n",
    "mms.fit(test)\n",
    "test = mms.transform(test)\n",
    "test.shape"
   ]
  },
  {
   "cell_type": "code",
   "execution_count": 70,
   "id": "ff13f39c",
   "metadata": {},
   "outputs": [
    {
     "name": "stdout",
     "output_type": "stream",
     "text": [
      "(10311, 7, 16)\n"
     ]
    }
   ],
   "source": [
    "windows_test = []\n",
    "i = 0\n",
    "while(i+6<len(test)):\n",
    "    lab = []\n",
    "    lab.append(test[i])\n",
    "    lab.append(test[i+1])\n",
    "    lab.append(test[i+2])\n",
    "    lab.append(test[i+3])\n",
    "    lab.append(test[i+4])\n",
    "    lab.append(test[i+5])\n",
    "    lab.append(test[i+6])\n",
    "    windows_test.append(lab)\n",
    "    i+=1\n",
    "print(np.array(windows_test).shape)  \n",
    "windows_test = np.array(windows_test)"
   ]
  },
  {
   "cell_type": "code",
   "execution_count": 71,
   "id": "69f479cf",
   "metadata": {},
   "outputs": [],
   "source": [
    "preds = model.predict(windows_test)"
   ]
  },
  {
   "cell_type": "code",
   "execution_count": 72,
   "id": "787d16ad",
   "metadata": {},
   "outputs": [
    {
     "data": {
      "text/plain": [
       "array([[1.],\n",
       "       [1.],\n",
       "       [1.],\n",
       "       ...,\n",
       "       [0.],\n",
       "       [0.],\n",
       "       [0.]], dtype=float32)"
      ]
     },
     "execution_count": 72,
     "metadata": {},
     "output_type": "execute_result"
    }
   ],
   "source": [
    "preds = tf.round(preds).numpy()\n",
    "preds"
   ]
  },
  {
   "cell_type": "code",
   "execution_count": 73,
   "id": "e22f8938",
   "metadata": {},
   "outputs": [
    {
     "data": {
      "text/plain": [
       "array([[1],\n",
       "       [1],\n",
       "       [1],\n",
       "       ...,\n",
       "       [0],\n",
       "       [0],\n",
       "       [0]], dtype=int64)"
      ]
     },
     "execution_count": 73,
     "metadata": {},
     "output_type": "execute_result"
    }
   ],
   "source": [
    "preds = tf.cast(preds,dtype=tf.int64).numpy()\n",
    "preds"
   ]
  },
  {
   "cell_type": "code",
   "execution_count": 74,
   "id": "c24c5c2f",
   "metadata": {},
   "outputs": [
    {
     "data": {
      "text/plain": [
       "array([1, 1, 1, ..., 0, 0, 0], dtype=int64)"
      ]
     },
     "execution_count": 74,
     "metadata": {},
     "output_type": "execute_result"
    }
   ],
   "source": [
    "preds = tf.squeeze(preds).numpy()\n",
    "preds"
   ]
  },
  {
   "cell_type": "code",
   "execution_count": 78,
   "id": "ed6e261b",
   "metadata": {},
   "outputs": [
    {
     "data": {
      "text/plain": [
       "1    7632\n",
       "0    2679\n",
       "Name: target, dtype: int64"
      ]
     },
     "execution_count": 78,
     "metadata": {},
     "output_type": "execute_result"
    }
   ],
   "source": [
    "l = np.arange(0,len(preds))\n",
    "pred_df = pd.DataFrame(list(zip(l, preds)),\n",
    "               columns =['Id', 'target'])\n",
    "pred_df.to_csv(\"submission10.csv\")\n",
    "pred_df[\"target\"].value_counts()"
   ]
  }
 ],
 "metadata": {
  "kernelspec": {
   "display_name": "venv1",
   "language": "python",
   "name": "venv1"
  },
  "language_info": {
   "codemirror_mode": {
    "name": "ipython",
    "version": 3
   },
   "file_extension": ".py",
   "mimetype": "text/x-python",
   "name": "python",
   "nbconvert_exporter": "python",
   "pygments_lexer": "ipython3",
   "version": "3.9.0"
  }
 },
 "nbformat": 4,
 "nbformat_minor": 5
}
